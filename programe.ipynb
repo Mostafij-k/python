{
 "cells": [
  {
   "cell_type": "code",
   "execution_count": 3,
   "metadata": {},
   "outputs": [
    {
     "name": "stdout",
     "output_type": "stream",
     "text": [
      "11\n",
      "15\n",
      "9\n"
     ]
    }
   ],
   "source": [
    "#how to provide commentss in a code\n",
    "print(5+6)\n",
    "print(8+7)\n",
    "#Input phase\n",
    "nub1 = int(input('Input 1st number: '))\n",
    "nub2 = int(input('Input 2nd number: '))\n",
    "#Processing Phase \n",
    "result = nub1+nub2\n",
    "#Output\n",
    "print(result)"
   ]
  },
  {
   "cell_type": "code",
   "execution_count": 12,
   "metadata": {},
   "outputs": [
    {
     "data": {
      "text/plain": [
       "bool"
      ]
     },
     "execution_count": 12,
     "metadata": {},
     "output_type": "execute_result"
    }
   ],
   "source": [
    "# Creating storage/variable\n",
    "nub = 33\n",
    "name = 'mostafij'\n",
    "weight = 73.6\n",
    "type(nub)\n",
    "type(name)\n",
    "type(weight)\n",
    "ismarried = True\n",
    "type(ismarried)"
   ]
  },
  {
   "cell_type": "code",
   "execution_count": 16,
   "metadata": {},
   "outputs": [
    {
     "name": "stdout",
     "output_type": "stream",
     "text": [
      "33 mostafij 73.6\n",
      "nub name weight\n"
     ]
    }
   ],
   "source": [
    "# Type of data\n",
    "nub = 33 # int\n",
    "name = 'mostafij' # string or character\n",
    "weight = 73.6  # floating\n",
    "type(nub)\n",
    "type(name)\n",
    "type(weight)\n",
    "ismarried = True # boolean\n",
    "type(ismarried)\n",
    "print(nub,name,weight)\n",
    "print('nub', 'name', 'weight') #so you can't use cotation "
   ]
  },
  {
   "cell_type": "code",
   "execution_count": 27,
   "metadata": {},
   "outputs": [
    {
     "name": "stdout",
     "output_type": "stream",
     "text": [
      "Kamely\n",
      "Are you a student\n",
      "He told me he will soon\n"
     ]
    }
   ],
   "source": [
    "# String method = you can use single cotation or double cotattion\n",
    "name = 'Kamely'\n",
    "type(name)\n",
    "print(name)\n",
    "s = 'Are you a student'\n",
    "print(s)\n",
    "a = \"He told me he will soon\" #That's why we use both cotation\n",
    "print(a)"
   ]
  },
  {
   "cell_type": "code",
   "execution_count": 50,
   "metadata": {},
   "outputs": [
    {
     "data": {
      "text/plain": [
       "(False, True)"
      ]
     },
     "execution_count": 50,
     "metadata": {},
     "output_type": "execute_result"
    }
   ],
   "source": [
    "# Conversion with some function\n",
    "a.capitalize()\n",
    "a.format\n",
    "a.lower()\n",
    "a.upper()\n",
    "a.split() #separate through space\n",
    "a.split('he')\n",
    "a.replace('he','mostafij')\n",
    "a.replace('e', 'd', 2) # replace e by d serial by serial (2)\n",
    "a.swapcase()  # exchange\n",
    "a.startswith('t')\n",
    "a.endswith('n')\n",
    "a.title()\n",
    "a.translate(\"as\")\n",
    "a.count('e')\n",
    "a.find('he')\n",
    "a.casefold()\n",
    "a.expandtabs()\n",
    "a.isupper(), a.upper().isupper()\n",
    "a.islower(), a.lower().islower()\n",
    "\n"
   ]
  },
  {
   "cell_type": "code",
   "execution_count": 74,
   "metadata": {},
   "outputs": [
    {
     "name": "stdout",
     "output_type": "stream",
     "text": [
      "True <class 'str'>\n"
     ]
    }
   ],
   "source": [
    "# Type conversion\n",
    "s = '34'\n",
    "type(s)\n",
    "n = int(s)\n",
    "type(n)\n",
    "c = float(s)\n",
    "s = complex(s)\n",
    "type(s), s\n",
    "s = str(s)\n",
    "type(s), s\n",
    "s = bool(s)\n",
    "type(s), s\n",
    "t = \"\"\n",
    "t = bool(t)\n",
    "type(t), t\n",
    "r = \"anc\"\n",
    "r = print(bool(r), type(r))\n"
   ]
  },
  {
   "cell_type": "code",
   "execution_count": 2,
   "metadata": {},
   "outputs": [
    {
     "name": "stdout",
     "output_type": "stream",
     "text": [
      "mostafij your age 26 your weight 72.4\n",
      "mostafij your age 26 your weight 72.400000\n",
      "mostafij your age 26 your weight72.4\n",
      "mostafij your age 29 your weight 69.4\n"
     ]
    }
   ],
   "source": [
    "## String formating\n",
    "name = \"mostafij\"\n",
    "age = 26\n",
    "weight = 72.4\n",
    "print(\"{0} your age {1} your weight {2}\".format(name,age,weight)) #  we can interchange numbering\n",
    "# 2nd method \n",
    "print(\"%s your age %d your weight %f\" %(name, age, weight))\n",
    "## 3rd method\n",
    "print(f\"{name} your age {age} your weight{weight}\")\n",
    "print(f\"{name} your age {age+3} your weight {weight-3}\")  # Here you can perform opretion \n"
   ]
  },
  {
   "cell_type": "code",
   "execution_count": 3,
   "metadata": {},
   "outputs": [
    {
     "data": {
      "text/plain": [
       "'mostafij'"
      ]
     },
     "execution_count": 3,
     "metadata": {},
     "output_type": "execute_result"
    }
   ],
   "source": [
    "## Taking input from user\n",
    "input(\"Entert your name: \")"
   ]
  },
  {
   "cell_type": "code",
   "execution_count": 7,
   "metadata": {},
   "outputs": [
    {
     "name": "stdout",
     "output_type": "stream",
     "text": [
      "your name is mostafij\n"
     ]
    }
   ],
   "source": [
    "## Providing output to user\n",
    "name= input(\"Entert your name: \")\n",
    "print(f\"your name is {name}\")"
   ]
  },
  {
   "cell_type": "code",
   "execution_count": null,
   "metadata": {},
   "outputs": [],
   "source": [
    "## Indentation error\n",
    " h=34 # This is erroe because you have to start from left = wrong\n",
    "h= 34  # Right"
   ]
  },
  {
   "cell_type": "code",
   "execution_count": 40,
   "metadata": {},
   "outputs": [
    {
     "data": {
      "text/plain": [
       "True"
      ]
     },
     "execution_count": 40,
     "metadata": {},
     "output_type": "execute_result"
    }
   ],
   "source": [
    "## Operator\n",
    "## Arithmetic Operator\n",
    "3+2\n",
    "3-2\n",
    "3*3\n",
    "3/4  # Floating division\n",
    "3//2  # Integer division\n",
    "3%2  # reminder find\n",
    "2 ** 2\n",
    "\n",
    "## Comparison operator \n",
    "2>4\n",
    "4<2\n",
    "3==3\n",
    "2!=3\n",
    "2>=3\n",
    "1<=3\n"
   ]
  },
  {
   "cell_type": "code",
   "execution_count": 30,
   "metadata": {},
   "outputs": [
    {
     "data": {
      "text/plain": [
       "False"
      ]
     },
     "execution_count": 30,
     "metadata": {},
     "output_type": "execute_result"
    }
   ],
   "source": [
    "# Logical \n",
    "True and True\n",
    "True and False\n",
    "False and False\n",
    "\n",
    "True or True\n",
    "True or False\n",
    "False or False\n",
    "not True\n",
    "not False\n",
    "## Example\n",
    "age=17\n",
    "salary=40000\n",
    "(age>=18) and (salary>=40000)\n",
    "age>=18 and salary>=40000\n"
   ]
  },
  {
   "cell_type": "code",
   "execution_count": 32,
   "metadata": {},
   "outputs": [
    {
     "name": "stderr",
     "output_type": "stream",
     "text": [
      "<>:3: SyntaxWarning: \"is\" with a literal. Did you mean \"==\"?\n",
      "<>:3: SyntaxWarning: \"is\" with a literal. Did you mean \"==\"?\n",
      "C:\\Users\\user\\AppData\\Local\\Temp/ipykernel_20512/4125365453.py:3: SyntaxWarning: \"is\" with a literal. Did you mean \"==\"?\n",
      "  2 is 2.0\n"
     ]
    },
    {
     "data": {
      "text/plain": [
       "False"
      ]
     },
     "execution_count": 32,
     "metadata": {},
     "output_type": "execute_result"
    }
   ],
   "source": [
    "## Special character\n",
    "\"h\" in \"happy\"\n",
    "2 is 2.0"
   ]
  },
  {
   "cell_type": "code",
   "execution_count": 38,
   "metadata": {},
   "outputs": [
    {
     "data": {
      "text/plain": [
       "4"
      ]
     },
     "execution_count": 38,
     "metadata": {},
     "output_type": "execute_result"
    }
   ],
   "source": [
    "## Assignment\n",
    "n=2\n",
    "n+=2\n",
    "n\n",
    "n-=2\n",
    "n\n",
    "n*=2\n",
    "n"
   ]
  },
  {
   "cell_type": "code",
   "execution_count": 41,
   "metadata": {},
   "outputs": [
    {
     "data": {
      "text/plain": [
       "['False',\n",
       " 'None',\n",
       " 'True',\n",
       " 'and',\n",
       " 'as',\n",
       " 'assert',\n",
       " 'async',\n",
       " 'await',\n",
       " 'break',\n",
       " 'class',\n",
       " 'continue',\n",
       " 'def',\n",
       " 'del',\n",
       " 'elif',\n",
       " 'else',\n",
       " 'except',\n",
       " 'finally',\n",
       " 'for',\n",
       " 'from',\n",
       " 'global',\n",
       " 'if',\n",
       " 'import',\n",
       " 'in',\n",
       " 'is',\n",
       " 'lambda',\n",
       " 'nonlocal',\n",
       " 'not',\n",
       " 'or',\n",
       " 'pass',\n",
       " 'raise',\n",
       " 'return',\n",
       " 'try',\n",
       " 'while',\n",
       " 'with',\n",
       " 'yield']"
      ]
     },
     "execution_count": 41,
     "metadata": {},
     "output_type": "execute_result"
    }
   ],
   "source": [
    "## To show keyword\n",
    "import keyword\n",
    "keyword.kwlist"
   ]
  }
 ],
 "metadata": {
  "interpreter": {
   "hash": "63b2014fe923bc11fc1089a45e8d8d32d8530e11d1dfc98edf4ada9c05eba13b"
  },
  "kernelspec": {
   "display_name": "Python 3.10.0 64-bit",
   "language": "python",
   "name": "python3"
  },
  "language_info": {
   "codemirror_mode": {
    "name": "ipython",
    "version": 3
   },
   "file_extension": ".py",
   "mimetype": "text/x-python",
   "name": "python",
   "nbconvert_exporter": "python",
   "pygments_lexer": "ipython3",
   "version": "3.10.0"
  },
  "orig_nbformat": 4
 },
 "nbformat": 4,
 "nbformat_minor": 2
}
